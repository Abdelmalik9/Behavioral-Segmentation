{
 "cells": [
  {
   "cell_type": "markdown",
   "metadata": {
    "id": "1laiDkRxRfN9"
   },
   "source": [
    "# Directory, Libraries and Data"
   ]
  },
  {
   "cell_type": "code",
   "execution_count": 2,
   "metadata": {
    "executionInfo": {
     "elapsed": 3445,
     "status": "ok",
     "timestamp": 1669228887084,
     "user": {
      "displayName": "Diogo Resende",
      "userId": "05706604408624562002"
     },
     "user_tz": -60
    },
    "id": "_JenHOMXRnex"
   },
   "outputs": [],
   "source": [
    "#libraries\n",
    "import numpy as np\n",
    "import pandas as pd\n",
    "import matplotlib.pyplot as plt\n",
    "from sklearn.mixture import GaussianMixture"
   ]
  },
  {
   "cell_type": "code",
   "execution_count": 3,
   "metadata": {
    "colab": {
     "base_uri": "https://localhost:8080/",
     "height": 270
    },
    "executionInfo": {
     "elapsed": 1084,
     "status": "ok",
     "timestamp": 1669228888148,
     "user": {
      "displayName": "Diogo Resende",
      "userId": "05706604408624562002"
     },
     "user_tz": -60
    },
    "id": "2vPxVeKMRwIq",
    "outputId": "66f8cf04-0e53-43c9-b3f4-14757b92b476"
   },
   "outputs": [
    {
     "data": {
      "application/vnd.microsoft.datawrangler.viewer.v0+json": {
       "columns": [
        {
         "name": "index",
         "rawType": "int64",
         "type": "integer"
        },
        {
         "name": "CUST_ID",
         "rawType": "object",
         "type": "string"
        },
        {
         "name": "BALANCE",
         "rawType": "float64",
         "type": "float"
        },
        {
         "name": "BALANCE_FREQUENCY",
         "rawType": "float64",
         "type": "float"
        },
        {
         "name": "PURCHASES",
         "rawType": "float64",
         "type": "float"
        },
        {
         "name": "ONEOFF_PURCHASES",
         "rawType": "float64",
         "type": "float"
        },
        {
         "name": "INSTALLMENTS_PURCHASES",
         "rawType": "float64",
         "type": "float"
        },
        {
         "name": "CASH_ADVANCE",
         "rawType": "float64",
         "type": "float"
        },
        {
         "name": "PURCHASES_FREQUENCY",
         "rawType": "float64",
         "type": "float"
        },
        {
         "name": "ONEOFF_PURCHASES_FREQUENCY",
         "rawType": "float64",
         "type": "float"
        },
        {
         "name": "PURCHASES_INSTALLMENTS_FREQUENCY",
         "rawType": "float64",
         "type": "float"
        },
        {
         "name": "CASH_ADVANCE_FREQUENCY",
         "rawType": "float64",
         "type": "float"
        },
        {
         "name": "CASH_ADVANCE_TRX",
         "rawType": "int64",
         "type": "integer"
        },
        {
         "name": "PURCHASES_TRX",
         "rawType": "int64",
         "type": "integer"
        },
        {
         "name": "CREDIT_LIMIT",
         "rawType": "float64",
         "type": "float"
        },
        {
         "name": "PAYMENTS",
         "rawType": "float64",
         "type": "float"
        },
        {
         "name": "MINIMUM_PAYMENTS",
         "rawType": "float64",
         "type": "float"
        },
        {
         "name": "PRC_FULL_PAYMENT",
         "rawType": "float64",
         "type": "float"
        },
        {
         "name": "TENURE",
         "rawType": "int64",
         "type": "integer"
        }
       ],
       "ref": "751dac9f-b40a-410b-bd56-4154cd848f44",
       "rows": [
        [
         "0",
         "C10001",
         "40.900749",
         "0.818182",
         "95.4",
         "0.0",
         "95.4",
         "0.0",
         "0.166667",
         "0.0",
         "0.083333",
         "0.0",
         "0",
         "2",
         "1000.0",
         "201.802084",
         "139.509787",
         "0.0",
         "12"
        ],
        [
         "1",
         "C10002",
         "3202.467416",
         "0.909091",
         "0.0",
         "0.0",
         "0.0",
         "6442.945483",
         "0.0",
         "0.0",
         "0.0",
         "0.25",
         "4",
         "0",
         "7000.0",
         "4103.032597",
         "1072.340217",
         "0.222222",
         "12"
        ],
        [
         "2",
         "C10003",
         "2495.148862",
         "1.0",
         "773.17",
         "773.17",
         "0.0",
         "0.0",
         "1.0",
         "1.0",
         "0.0",
         "0.0",
         "0",
         "12",
         "7500.0",
         "622.066742",
         "627.284787",
         "0.0",
         "12"
        ],
        [
         "4",
         "C10005",
         "817.714335",
         "1.0",
         "16.0",
         "16.0",
         "0.0",
         "0.0",
         "0.083333",
         "0.083333",
         "0.0",
         "0.0",
         "0",
         "1",
         "1200.0",
         "678.334763",
         "244.791237",
         "0.0",
         "12"
        ],
        [
         "5",
         "C10006",
         "1809.828751",
         "1.0",
         "1333.28",
         "0.0",
         "1333.28",
         "0.0",
         "0.666667",
         "0.0",
         "0.583333",
         "0.0",
         "0",
         "8",
         "1800.0",
         "1400.05777",
         "2407.246035",
         "0.0",
         "12"
        ]
       ],
       "shape": {
        "columns": 18,
        "rows": 5
       }
      },
      "text/html": [
       "<div>\n",
       "<style scoped>\n",
       "    .dataframe tbody tr th:only-of-type {\n",
       "        vertical-align: middle;\n",
       "    }\n",
       "\n",
       "    .dataframe tbody tr th {\n",
       "        vertical-align: top;\n",
       "    }\n",
       "\n",
       "    .dataframe thead th {\n",
       "        text-align: right;\n",
       "    }\n",
       "</style>\n",
       "<table border=\"1\" class=\"dataframe\">\n",
       "  <thead>\n",
       "    <tr style=\"text-align: right;\">\n",
       "      <th></th>\n",
       "      <th>CUST_ID</th>\n",
       "      <th>BALANCE</th>\n",
       "      <th>BALANCE_FREQUENCY</th>\n",
       "      <th>PURCHASES</th>\n",
       "      <th>ONEOFF_PURCHASES</th>\n",
       "      <th>INSTALLMENTS_PURCHASES</th>\n",
       "      <th>CASH_ADVANCE</th>\n",
       "      <th>PURCHASES_FREQUENCY</th>\n",
       "      <th>ONEOFF_PURCHASES_FREQUENCY</th>\n",
       "      <th>PURCHASES_INSTALLMENTS_FREQUENCY</th>\n",
       "      <th>CASH_ADVANCE_FREQUENCY</th>\n",
       "      <th>CASH_ADVANCE_TRX</th>\n",
       "      <th>PURCHASES_TRX</th>\n",
       "      <th>CREDIT_LIMIT</th>\n",
       "      <th>PAYMENTS</th>\n",
       "      <th>MINIMUM_PAYMENTS</th>\n",
       "      <th>PRC_FULL_PAYMENT</th>\n",
       "      <th>TENURE</th>\n",
       "    </tr>\n",
       "  </thead>\n",
       "  <tbody>\n",
       "    <tr>\n",
       "      <th>0</th>\n",
       "      <td>C10001</td>\n",
       "      <td>40.900749</td>\n",
       "      <td>0.818182</td>\n",
       "      <td>95.40</td>\n",
       "      <td>0.00</td>\n",
       "      <td>95.40</td>\n",
       "      <td>0.000000</td>\n",
       "      <td>0.166667</td>\n",
       "      <td>0.000000</td>\n",
       "      <td>0.083333</td>\n",
       "      <td>0.00</td>\n",
       "      <td>0</td>\n",
       "      <td>2</td>\n",
       "      <td>1000.0</td>\n",
       "      <td>201.802084</td>\n",
       "      <td>139.509787</td>\n",
       "      <td>0.000000</td>\n",
       "      <td>12</td>\n",
       "    </tr>\n",
       "    <tr>\n",
       "      <th>1</th>\n",
       "      <td>C10002</td>\n",
       "      <td>3202.467416</td>\n",
       "      <td>0.909091</td>\n",
       "      <td>0.00</td>\n",
       "      <td>0.00</td>\n",
       "      <td>0.00</td>\n",
       "      <td>6442.945483</td>\n",
       "      <td>0.000000</td>\n",
       "      <td>0.000000</td>\n",
       "      <td>0.000000</td>\n",
       "      <td>0.25</td>\n",
       "      <td>4</td>\n",
       "      <td>0</td>\n",
       "      <td>7000.0</td>\n",
       "      <td>4103.032597</td>\n",
       "      <td>1072.340217</td>\n",
       "      <td>0.222222</td>\n",
       "      <td>12</td>\n",
       "    </tr>\n",
       "    <tr>\n",
       "      <th>2</th>\n",
       "      <td>C10003</td>\n",
       "      <td>2495.148862</td>\n",
       "      <td>1.000000</td>\n",
       "      <td>773.17</td>\n",
       "      <td>773.17</td>\n",
       "      <td>0.00</td>\n",
       "      <td>0.000000</td>\n",
       "      <td>1.000000</td>\n",
       "      <td>1.000000</td>\n",
       "      <td>0.000000</td>\n",
       "      <td>0.00</td>\n",
       "      <td>0</td>\n",
       "      <td>12</td>\n",
       "      <td>7500.0</td>\n",
       "      <td>622.066742</td>\n",
       "      <td>627.284787</td>\n",
       "      <td>0.000000</td>\n",
       "      <td>12</td>\n",
       "    </tr>\n",
       "    <tr>\n",
       "      <th>4</th>\n",
       "      <td>C10005</td>\n",
       "      <td>817.714335</td>\n",
       "      <td>1.000000</td>\n",
       "      <td>16.00</td>\n",
       "      <td>16.00</td>\n",
       "      <td>0.00</td>\n",
       "      <td>0.000000</td>\n",
       "      <td>0.083333</td>\n",
       "      <td>0.083333</td>\n",
       "      <td>0.000000</td>\n",
       "      <td>0.00</td>\n",
       "      <td>0</td>\n",
       "      <td>1</td>\n",
       "      <td>1200.0</td>\n",
       "      <td>678.334763</td>\n",
       "      <td>244.791237</td>\n",
       "      <td>0.000000</td>\n",
       "      <td>12</td>\n",
       "    </tr>\n",
       "    <tr>\n",
       "      <th>5</th>\n",
       "      <td>C10006</td>\n",
       "      <td>1809.828751</td>\n",
       "      <td>1.000000</td>\n",
       "      <td>1333.28</td>\n",
       "      <td>0.00</td>\n",
       "      <td>1333.28</td>\n",
       "      <td>0.000000</td>\n",
       "      <td>0.666667</td>\n",
       "      <td>0.000000</td>\n",
       "      <td>0.583333</td>\n",
       "      <td>0.00</td>\n",
       "      <td>0</td>\n",
       "      <td>8</td>\n",
       "      <td>1800.0</td>\n",
       "      <td>1400.057770</td>\n",
       "      <td>2407.246035</td>\n",
       "      <td>0.000000</td>\n",
       "      <td>12</td>\n",
       "    </tr>\n",
       "  </tbody>\n",
       "</table>\n",
       "</div>"
      ],
      "text/plain": [
       "  CUST_ID      BALANCE  BALANCE_FREQUENCY  PURCHASES  ONEOFF_PURCHASES  \\\n",
       "0  C10001    40.900749           0.818182      95.40              0.00   \n",
       "1  C10002  3202.467416           0.909091       0.00              0.00   \n",
       "2  C10003  2495.148862           1.000000     773.17            773.17   \n",
       "4  C10005   817.714335           1.000000      16.00             16.00   \n",
       "5  C10006  1809.828751           1.000000    1333.28              0.00   \n",
       "\n",
       "   INSTALLMENTS_PURCHASES  CASH_ADVANCE  PURCHASES_FREQUENCY  \\\n",
       "0                   95.40      0.000000             0.166667   \n",
       "1                    0.00   6442.945483             0.000000   \n",
       "2                    0.00      0.000000             1.000000   \n",
       "4                    0.00      0.000000             0.083333   \n",
       "5                 1333.28      0.000000             0.666667   \n",
       "\n",
       "   ONEOFF_PURCHASES_FREQUENCY  PURCHASES_INSTALLMENTS_FREQUENCY  \\\n",
       "0                    0.000000                          0.083333   \n",
       "1                    0.000000                          0.000000   \n",
       "2                    1.000000                          0.000000   \n",
       "4                    0.083333                          0.000000   \n",
       "5                    0.000000                          0.583333   \n",
       "\n",
       "   CASH_ADVANCE_FREQUENCY  CASH_ADVANCE_TRX  PURCHASES_TRX  CREDIT_LIMIT  \\\n",
       "0                    0.00                 0              2        1000.0   \n",
       "1                    0.25                 4              0        7000.0   \n",
       "2                    0.00                 0             12        7500.0   \n",
       "4                    0.00                 0              1        1200.0   \n",
       "5                    0.00                 0              8        1800.0   \n",
       "\n",
       "      PAYMENTS  MINIMUM_PAYMENTS  PRC_FULL_PAYMENT  TENURE  \n",
       "0   201.802084        139.509787          0.000000      12  \n",
       "1  4103.032597       1072.340217          0.222222      12  \n",
       "2   622.066742        627.284787          0.000000      12  \n",
       "4   678.334763        244.791237          0.000000      12  \n",
       "5  1400.057770       2407.246035          0.000000      12  "
      ]
     },
     "execution_count": 3,
     "metadata": {},
     "output_type": "execute_result"
    }
   ],
   "source": [
    "#load the data\n",
    "df = pd.read_csv(\"CC GENERAL.csv\").dropna() \n",
    "df.head()"
   ]
  },
  {
   "cell_type": "markdown",
   "metadata": {
    "id": "lSeWNFckS0ir"
   },
   "source": [
    "# Gaussian Mixture Model"
   ]
  },
  {
   "cell_type": "code",
   "execution_count": 4,
   "metadata": {
    "colab": {
     "base_uri": "https://localhost:8080/",
     "height": 270
    },
    "executionInfo": {
     "elapsed": 16,
     "status": "ok",
     "timestamp": 1669228890554,
     "user": {
      "displayName": "Diogo Resende",
      "userId": "05706604408624562002"
     },
     "user_tz": -60
    },
    "id": "PbolJiEdS6a1",
    "outputId": "9f433e33-31c1-4fe6-91a2-57fdc2b51263"
   },
   "outputs": [
    {
     "data": {
      "application/vnd.microsoft.datawrangler.viewer.v0+json": {
       "columns": [
        {
         "name": "index",
         "rawType": "int64",
         "type": "integer"
        },
        {
         "name": "BALANCE",
         "rawType": "float64",
         "type": "float"
        },
        {
         "name": "BALANCE_FREQUENCY",
         "rawType": "float64",
         "type": "float"
        },
        {
         "name": "PURCHASES",
         "rawType": "float64",
         "type": "float"
        },
        {
         "name": "ONEOFF_PURCHASES",
         "rawType": "float64",
         "type": "float"
        },
        {
         "name": "INSTALLMENTS_PURCHASES",
         "rawType": "float64",
         "type": "float"
        },
        {
         "name": "CASH_ADVANCE",
         "rawType": "float64",
         "type": "float"
        },
        {
         "name": "PURCHASES_FREQUENCY",
         "rawType": "float64",
         "type": "float"
        },
        {
         "name": "ONEOFF_PURCHASES_FREQUENCY",
         "rawType": "float64",
         "type": "float"
        },
        {
         "name": "PURCHASES_INSTALLMENTS_FREQUENCY",
         "rawType": "float64",
         "type": "float"
        },
        {
         "name": "CASH_ADVANCE_FREQUENCY",
         "rawType": "float64",
         "type": "float"
        },
        {
         "name": "CASH_ADVANCE_TRX",
         "rawType": "int64",
         "type": "integer"
        },
        {
         "name": "PURCHASES_TRX",
         "rawType": "int64",
         "type": "integer"
        },
        {
         "name": "CREDIT_LIMIT",
         "rawType": "float64",
         "type": "float"
        },
        {
         "name": "PAYMENTS",
         "rawType": "float64",
         "type": "float"
        },
        {
         "name": "MINIMUM_PAYMENTS",
         "rawType": "float64",
         "type": "float"
        },
        {
         "name": "PRC_FULL_PAYMENT",
         "rawType": "float64",
         "type": "float"
        },
        {
         "name": "TENURE",
         "rawType": "int64",
         "type": "integer"
        }
       ],
       "ref": "48daa3a6-8a21-4139-80ab-6ea900b21ff8",
       "rows": [
        [
         "0",
         "40.900749",
         "0.818182",
         "95.4",
         "0.0",
         "95.4",
         "0.0",
         "0.166667",
         "0.0",
         "0.083333",
         "0.0",
         "0",
         "2",
         "1000.0",
         "201.802084",
         "139.509787",
         "0.0",
         "12"
        ],
        [
         "1",
         "3202.467416",
         "0.909091",
         "0.0",
         "0.0",
         "0.0",
         "6442.945483",
         "0.0",
         "0.0",
         "0.0",
         "0.25",
         "4",
         "0",
         "7000.0",
         "4103.032597",
         "1072.340217",
         "0.222222",
         "12"
        ],
        [
         "2",
         "2495.148862",
         "1.0",
         "773.17",
         "773.17",
         "0.0",
         "0.0",
         "1.0",
         "1.0",
         "0.0",
         "0.0",
         "0",
         "12",
         "7500.0",
         "622.066742",
         "627.284787",
         "0.0",
         "12"
        ],
        [
         "4",
         "817.714335",
         "1.0",
         "16.0",
         "16.0",
         "0.0",
         "0.0",
         "0.083333",
         "0.083333",
         "0.0",
         "0.0",
         "0",
         "1",
         "1200.0",
         "678.334763",
         "244.791237",
         "0.0",
         "12"
        ],
        [
         "5",
         "1809.828751",
         "1.0",
         "1333.28",
         "0.0",
         "1333.28",
         "0.0",
         "0.666667",
         "0.0",
         "0.583333",
         "0.0",
         "0",
         "8",
         "1800.0",
         "1400.05777",
         "2407.246035",
         "0.0",
         "12"
        ]
       ],
       "shape": {
        "columns": 17,
        "rows": 5
       }
      },
      "text/html": [
       "<div>\n",
       "<style scoped>\n",
       "    .dataframe tbody tr th:only-of-type {\n",
       "        vertical-align: middle;\n",
       "    }\n",
       "\n",
       "    .dataframe tbody tr th {\n",
       "        vertical-align: top;\n",
       "    }\n",
       "\n",
       "    .dataframe thead th {\n",
       "        text-align: right;\n",
       "    }\n",
       "</style>\n",
       "<table border=\"1\" class=\"dataframe\">\n",
       "  <thead>\n",
       "    <tr style=\"text-align: right;\">\n",
       "      <th></th>\n",
       "      <th>BALANCE</th>\n",
       "      <th>BALANCE_FREQUENCY</th>\n",
       "      <th>PURCHASES</th>\n",
       "      <th>ONEOFF_PURCHASES</th>\n",
       "      <th>INSTALLMENTS_PURCHASES</th>\n",
       "      <th>CASH_ADVANCE</th>\n",
       "      <th>PURCHASES_FREQUENCY</th>\n",
       "      <th>ONEOFF_PURCHASES_FREQUENCY</th>\n",
       "      <th>PURCHASES_INSTALLMENTS_FREQUENCY</th>\n",
       "      <th>CASH_ADVANCE_FREQUENCY</th>\n",
       "      <th>CASH_ADVANCE_TRX</th>\n",
       "      <th>PURCHASES_TRX</th>\n",
       "      <th>CREDIT_LIMIT</th>\n",
       "      <th>PAYMENTS</th>\n",
       "      <th>MINIMUM_PAYMENTS</th>\n",
       "      <th>PRC_FULL_PAYMENT</th>\n",
       "      <th>TENURE</th>\n",
       "    </tr>\n",
       "  </thead>\n",
       "  <tbody>\n",
       "    <tr>\n",
       "      <th>0</th>\n",
       "      <td>40.900749</td>\n",
       "      <td>0.818182</td>\n",
       "      <td>95.40</td>\n",
       "      <td>0.00</td>\n",
       "      <td>95.40</td>\n",
       "      <td>0.000000</td>\n",
       "      <td>0.166667</td>\n",
       "      <td>0.000000</td>\n",
       "      <td>0.083333</td>\n",
       "      <td>0.00</td>\n",
       "      <td>0</td>\n",
       "      <td>2</td>\n",
       "      <td>1000.0</td>\n",
       "      <td>201.802084</td>\n",
       "      <td>139.509787</td>\n",
       "      <td>0.000000</td>\n",
       "      <td>12</td>\n",
       "    </tr>\n",
       "    <tr>\n",
       "      <th>1</th>\n",
       "      <td>3202.467416</td>\n",
       "      <td>0.909091</td>\n",
       "      <td>0.00</td>\n",
       "      <td>0.00</td>\n",
       "      <td>0.00</td>\n",
       "      <td>6442.945483</td>\n",
       "      <td>0.000000</td>\n",
       "      <td>0.000000</td>\n",
       "      <td>0.000000</td>\n",
       "      <td>0.25</td>\n",
       "      <td>4</td>\n",
       "      <td>0</td>\n",
       "      <td>7000.0</td>\n",
       "      <td>4103.032597</td>\n",
       "      <td>1072.340217</td>\n",
       "      <td>0.222222</td>\n",
       "      <td>12</td>\n",
       "    </tr>\n",
       "    <tr>\n",
       "      <th>2</th>\n",
       "      <td>2495.148862</td>\n",
       "      <td>1.000000</td>\n",
       "      <td>773.17</td>\n",
       "      <td>773.17</td>\n",
       "      <td>0.00</td>\n",
       "      <td>0.000000</td>\n",
       "      <td>1.000000</td>\n",
       "      <td>1.000000</td>\n",
       "      <td>0.000000</td>\n",
       "      <td>0.00</td>\n",
       "      <td>0</td>\n",
       "      <td>12</td>\n",
       "      <td>7500.0</td>\n",
       "      <td>622.066742</td>\n",
       "      <td>627.284787</td>\n",
       "      <td>0.000000</td>\n",
       "      <td>12</td>\n",
       "    </tr>\n",
       "    <tr>\n",
       "      <th>4</th>\n",
       "      <td>817.714335</td>\n",
       "      <td>1.000000</td>\n",
       "      <td>16.00</td>\n",
       "      <td>16.00</td>\n",
       "      <td>0.00</td>\n",
       "      <td>0.000000</td>\n",
       "      <td>0.083333</td>\n",
       "      <td>0.083333</td>\n",
       "      <td>0.000000</td>\n",
       "      <td>0.00</td>\n",
       "      <td>0</td>\n",
       "      <td>1</td>\n",
       "      <td>1200.0</td>\n",
       "      <td>678.334763</td>\n",
       "      <td>244.791237</td>\n",
       "      <td>0.000000</td>\n",
       "      <td>12</td>\n",
       "    </tr>\n",
       "    <tr>\n",
       "      <th>5</th>\n",
       "      <td>1809.828751</td>\n",
       "      <td>1.000000</td>\n",
       "      <td>1333.28</td>\n",
       "      <td>0.00</td>\n",
       "      <td>1333.28</td>\n",
       "      <td>0.000000</td>\n",
       "      <td>0.666667</td>\n",
       "      <td>0.000000</td>\n",
       "      <td>0.583333</td>\n",
       "      <td>0.00</td>\n",
       "      <td>0</td>\n",
       "      <td>8</td>\n",
       "      <td>1800.0</td>\n",
       "      <td>1400.057770</td>\n",
       "      <td>2407.246035</td>\n",
       "      <td>0.000000</td>\n",
       "      <td>12</td>\n",
       "    </tr>\n",
       "  </tbody>\n",
       "</table>\n",
       "</div>"
      ],
      "text/plain": [
       "       BALANCE  BALANCE_FREQUENCY  PURCHASES  ONEOFF_PURCHASES  \\\n",
       "0    40.900749           0.818182      95.40              0.00   \n",
       "1  3202.467416           0.909091       0.00              0.00   \n",
       "2  2495.148862           1.000000     773.17            773.17   \n",
       "4   817.714335           1.000000      16.00             16.00   \n",
       "5  1809.828751           1.000000    1333.28              0.00   \n",
       "\n",
       "   INSTALLMENTS_PURCHASES  CASH_ADVANCE  PURCHASES_FREQUENCY  \\\n",
       "0                   95.40      0.000000             0.166667   \n",
       "1                    0.00   6442.945483             0.000000   \n",
       "2                    0.00      0.000000             1.000000   \n",
       "4                    0.00      0.000000             0.083333   \n",
       "5                 1333.28      0.000000             0.666667   \n",
       "\n",
       "   ONEOFF_PURCHASES_FREQUENCY  PURCHASES_INSTALLMENTS_FREQUENCY  \\\n",
       "0                    0.000000                          0.083333   \n",
       "1                    0.000000                          0.000000   \n",
       "2                    1.000000                          0.000000   \n",
       "4                    0.083333                          0.000000   \n",
       "5                    0.000000                          0.583333   \n",
       "\n",
       "   CASH_ADVANCE_FREQUENCY  CASH_ADVANCE_TRX  PURCHASES_TRX  CREDIT_LIMIT  \\\n",
       "0                    0.00                 0              2        1000.0   \n",
       "1                    0.25                 4              0        7000.0   \n",
       "2                    0.00                 0             12        7500.0   \n",
       "4                    0.00                 0              1        1200.0   \n",
       "5                    0.00                 0              8        1800.0   \n",
       "\n",
       "      PAYMENTS  MINIMUM_PAYMENTS  PRC_FULL_PAYMENT  TENURE  \n",
       "0   201.802084        139.509787          0.000000      12  \n",
       "1  4103.032597       1072.340217          0.222222      12  \n",
       "2   622.066742        627.284787          0.000000      12  \n",
       "4   678.334763        244.791237          0.000000      12  \n",
       "5  1400.057770       2407.246035          0.000000      12  "
      ]
     },
     "execution_count": 4,
     "metadata": {},
     "output_type": "execute_result"
    }
   ],
   "source": [
    "#Creating DF without CustomerID\n",
    "data = df.iloc[:,1:]\n",
    "data.head()"
   ]
  },
  {
   "cell_type": "code",
   "execution_count": 5,
   "metadata": {
    "colab": {
     "base_uri": "https://localhost:8080/",
     "height": 307
    },
    "executionInfo": {
     "elapsed": 18536,
     "status": "ok",
     "timestamp": 1669228910775,
     "user": {
      "displayName": "Diogo Resende",
      "userId": "05706604408624562002"
     },
     "user_tz": -60
    },
    "id": "jljv9rscTKQE",
    "outputId": "31daf69f-d65b-46eb-9674-a2c583040153"
   },
   "outputs": [
    {
     "data": {
      "text/plain": [
       "Text(0.5, 0, 'number of components')"
      ]
     },
     "execution_count": 5,
     "metadata": {},
     "output_type": "execute_result"
    },
    {
     "data": {
      "image/png": "[encoded data removed]",
      "text/plain": [
       "<Figure size 640x480 with 1 Axes>"
      ]
     },
     "metadata": {},
     "output_type": "display_data"
    }
   ],
   "source": [
    "#Finding Optimal Number of clusters\n",
    "n_components = np.arange(1,10)\n",
    "\n",
    "#Model loop\n",
    "models = [GaussianMixture(n_components= n,\n",
    "                          random_state = 1502).fit(data) for n in n_components]\n",
    "#Plotting\n",
    "plt.plot(n_components,\n",
    "         [m.bic(data) for m in models],\n",
    "         label = 'BIC')\n",
    "plt.plot(n_components,\n",
    "         [m.aic(data) for m in models],\n",
    "         label = 'AIC')\n",
    "plt.legend()\n",
    "plt.xlabel('number of components')"
   ]
  },
  {
   "cell_type": "code",
   "execution_count": 6,
   "metadata": {
    "executionInfo": {
     "elapsed": 2570,
     "status": "ok",
     "timestamp": 1669228922898,
     "user": {
      "displayName": "Diogo Resende",
      "userId": "05706604408624562002"
     },
     "user_tz": -60
    },
    "id": "MPm3tKc6URDU"
   },
   "outputs": [],
   "source": [
    "#Gaussian Mixture Model\n",
    "model = GaussianMixture(n_components= 6,\n",
    "                        random_state = 1502).fit(data)"
   ]
  },
  {
   "cell_type": "markdown",
   "metadata": {
    "id": "EZ6MzuwNUYuD"
   },
   "source": [
    "# Interpretation"
   ]
  },
  {
   "cell_type": "code",
   "execution_count": 7,
   "metadata": {
    "colab": {
     "base_uri": "https://localhost:8080/",
     "height": 176
    },
    "executionInfo": {
     "elapsed": 17,
     "status": "ok",
     "timestamp": 1669228926192,
     "user": {
      "displayName": "Diogo Resende",
      "userId": "05706604408624562002"
     },
     "user_tz": -60
    },
    "id": "EJSbivgcUX6X",
    "outputId": "ea505f1f-eafe-4b2e-d679-bb5f17117207"
   },
   "outputs": [
    {
     "data": {
      "application/vnd.microsoft.datawrangler.viewer.v0+json": {
       "columns": [
        {
         "name": "index",
         "rawType": "int64",
         "type": "integer"
        },
        {
         "name": "CUST_ID",
         "rawType": "object",
         "type": "string"
        },
        {
         "name": "BALANCE",
         "rawType": "float64",
         "type": "float"
        },
        {
         "name": "BALANCE_FREQUENCY",
         "rawType": "float64",
         "type": "float"
        },
        {
         "name": "PURCHASES",
         "rawType": "float64",
         "type": "float"
        },
        {
         "name": "ONEOFF_PURCHASES",
         "rawType": "float64",
         "type": "float"
        },
        {
         "name": "INSTALLMENTS_PURCHASES",
         "rawType": "float64",
         "type": "float"
        },
        {
         "name": "CASH_ADVANCE",
         "rawType": "float64",
         "type": "float"
        },
        {
         "name": "PURCHASES_FREQUENCY",
         "rawType": "float64",
         "type": "float"
        },
        {
         "name": "ONEOFF_PURCHASES_FREQUENCY",
         "rawType": "float64",
         "type": "float"
        },
        {
         "name": "PURCHASES_INSTALLMENTS_FREQUENCY",
         "rawType": "float64",
         "type": "float"
        },
        {
         "name": "CASH_ADVANCE_FREQUENCY",
         "rawType": "float64",
         "type": "float"
        },
        {
         "name": "CASH_ADVANCE_TRX",
         "rawType": "int64",
         "type": "integer"
        },
        {
         "name": "PURCHASES_TRX",
         "rawType": "int64",
         "type": "integer"
        },
        {
         "name": "CREDIT_LIMIT",
         "rawType": "float64",
         "type": "float"
        },
        {
         "name": "PAYMENTS",
         "rawType": "float64",
         "type": "float"
        },
        {
         "name": "MINIMUM_PAYMENTS",
         "rawType": "float64",
         "type": "float"
        },
        {
         "name": "PRC_FULL_PAYMENT",
         "rawType": "float64",
         "type": "float"
        },
        {
         "name": "TENURE",
         "rawType": "int64",
         "type": "integer"
        },
        {
         "name": "Cluster",
         "rawType": "float64",
         "type": "float"
        }
       ],
       "ref": "7ab6985f-1745-4ffb-a693-ae18298ae353",
       "rows": [
        [
         "0",
         "C10001",
         "40.900749",
         "0.818182",
         "95.4",
         "0.0",
         "95.4",
         "0.0",
         "0.166667",
         "0.0",
         "0.083333",
         "0.0",
         "0",
         "2",
         "1000.0",
         "201.802084",
         "139.509787",
         "0.0",
         "12",
         "1.0"
        ],
        [
         "1",
         "C10002",
         "3202.467416",
         "0.909091",
         "0.0",
         "0.0",
         "0.0",
         "6442.945483",
         "0.0",
         "0.0",
         "0.0",
         "0.25",
         "4",
         "0",
         "7000.0",
         "4103.032597",
         "1072.340217",
         "0.222222",
         "12",
         "0.0"
        ]
       ],
       "shape": {
        "columns": 19,
        "rows": 2
       }
      },
      "text/html": [
       "<div>\n",
       "<style scoped>\n",
       "    .dataframe tbody tr th:only-of-type {\n",
       "        vertical-align: middle;\n",
       "    }\n",
       "\n",
       "    .dataframe tbody tr th {\n",
       "        vertical-align: top;\n",
       "    }\n",
       "\n",
       "    .dataframe thead th {\n",
       "        text-align: right;\n",
       "    }\n",
       "</style>\n",
       "<table border=\"1\" class=\"dataframe\">\n",
       "  <thead>\n",
       "    <tr style=\"text-align: right;\">\n",
       "      <th></th>\n",
       "      <th>CUST_ID</th>\n",
       "      <th>BALANCE</th>\n",
       "      <th>BALANCE_FREQUENCY</th>\n",
       "      <th>PURCHASES</th>\n",
       "      <th>ONEOFF_PURCHASES</th>\n",
       "      <th>INSTALLMENTS_PURCHASES</th>\n",
       "      <th>CASH_ADVANCE</th>\n",
       "      <th>PURCHASES_FREQUENCY</th>\n",
       "      <th>ONEOFF_PURCHASES_FREQUENCY</th>\n",
       "      <th>PURCHASES_INSTALLMENTS_FREQUENCY</th>\n",
       "      <th>CASH_ADVANCE_FREQUENCY</th>\n",
       "      <th>CASH_ADVANCE_TRX</th>\n",
       "      <th>PURCHASES_TRX</th>\n",
       "      <th>CREDIT_LIMIT</th>\n",
       "      <th>PAYMENTS</th>\n",
       "      <th>MINIMUM_PAYMENTS</th>\n",
       "      <th>PRC_FULL_PAYMENT</th>\n",
       "      <th>TENURE</th>\n",
       "      <th>Cluster</th>\n",
       "    </tr>\n",
       "  </thead>\n",
       "  <tbody>\n",
       "    <tr>\n",
       "      <th>0</th>\n",
       "      <td>C10001</td>\n",
       "      <td>40.900749</td>\n",
       "      <td>0.818182</td>\n",
       "      <td>95.4</td>\n",
       "      <td>0.0</td>\n",
       "      <td>95.4</td>\n",
       "      <td>0.000000</td>\n",
       "      <td>0.166667</td>\n",
       "      <td>0.0</td>\n",
       "      <td>0.083333</td>\n",
       "      <td>0.00</td>\n",
       "      <td>0</td>\n",
       "      <td>2</td>\n",
       "      <td>1000.0</td>\n",
       "      <td>201.802084</td>\n",
       "      <td>139.509787</td>\n",
       "      <td>0.000000</td>\n",
       "      <td>12</td>\n",
       "      <td>1.0</td>\n",
       "    </tr>\n",
       "    <tr>\n",
       "      <th>1</th>\n",
       "      <td>C10002</td>\n",
       "      <td>3202.467416</td>\n",
       "      <td>0.909091</td>\n",
       "      <td>0.0</td>\n",
       "      <td>0.0</td>\n",
       "      <td>0.0</td>\n",
       "      <td>6442.945483</td>\n",
       "      <td>0.000000</td>\n",
       "      <td>0.0</td>\n",
       "      <td>0.000000</td>\n",
       "      <td>0.25</td>\n",
       "      <td>4</td>\n",
       "      <td>0</td>\n",
       "      <td>7000.0</td>\n",
       "      <td>4103.032597</td>\n",
       "      <td>1072.340217</td>\n",
       "      <td>0.222222</td>\n",
       "      <td>12</td>\n",
       "      <td>0.0</td>\n",
       "    </tr>\n",
       "  </tbody>\n",
       "</table>\n",
       "</div>"
      ],
      "text/plain": [
       "  CUST_ID      BALANCE  BALANCE_FREQUENCY  PURCHASES  ONEOFF_PURCHASES  \\\n",
       "0  C10001    40.900749           0.818182       95.4               0.0   \n",
       "1  C10002  3202.467416           0.909091        0.0               0.0   \n",
       "\n",
       "   INSTALLMENTS_PURCHASES  CASH_ADVANCE  PURCHASES_FREQUENCY  \\\n",
       "0                    95.4      0.000000             0.166667   \n",
       "1                     0.0   6442.945483             0.000000   \n",
       "\n",
       "   ONEOFF_PURCHASES_FREQUENCY  PURCHASES_INSTALLMENTS_FREQUENCY  \\\n",
       "0                         0.0                          0.083333   \n",
       "1                         0.0                          0.000000   \n",
       "\n",
       "   CASH_ADVANCE_FREQUENCY  CASH_ADVANCE_TRX  PURCHASES_TRX  CREDIT_LIMIT  \\\n",
       "0                    0.00                 0              2        1000.0   \n",
       "1                    0.25                 4              0        7000.0   \n",
       "\n",
       "      PAYMENTS  MINIMUM_PAYMENTS  PRC_FULL_PAYMENT  TENURE  Cluster  \n",
       "0   201.802084        139.509787          0.000000      12      1.0  \n",
       "1  4103.032597       1072.340217          0.222222      12      0.0  "
      ]
     },
     "execution_count": 7,
     "metadata": {},
     "output_type": "execute_result"
    }
   ],
   "source": [
    "#Prediction\n",
    "cluster = pd.Series(model.predict(data))\n",
    "df['Cluster'] = cluster\n",
    "df.head(2)"
   ]
  },
  {
   "cell_type": "code",
   "execution_count": 8,
   "metadata": {
    "colab": {
     "base_uri": "https://localhost:8080/"
    },
    "executionInfo": {
     "elapsed": 12,
     "status": "ok",
     "timestamp": 1669228927676,
     "user": {
      "displayName": "Diogo Resende",
      "userId": "05706604408624562002"
     },
     "user_tz": -60
    },
    "id": "D9_PrX1cUr0M",
    "outputId": "45b12fd9-f975-4f48-b321-2289b4e2a89f"
   },
   "outputs": [
    {
     "data": {
      "application/vnd.microsoft.datawrangler.viewer.v0+json": {
       "columns": [
        {
         "name": "Cluster",
         "rawType": "float64",
         "type": "float"
        },
        {
         "name": "count",
         "rawType": "int64",
         "type": "integer"
        }
       ],
       "ref": "1b20b77e-718b-4dbc-9ae2-0331335442f9",
       "rows": [
        [
         "5.0",
         "2492"
        ],
        [
         "0.0",
         "2159"
        ],
        [
         "1.0",
         "1612"
        ],
        [
         "2.0",
         "1118"
        ],
        [
         "4.0",
         "802"
        ],
        [
         "3.0",
         "156"
        ]
       ],
       "shape": {
        "columns": 1,
        "rows": 6
       }
      },
      "text/plain": [
       "Cluster\n",
       "5.0    2492\n",
       "0.0    2159\n",
       "1.0    1612\n",
       "2.0    1118\n",
       "4.0     802\n",
       "3.0     156\n",
       "Name: count, dtype: int64"
      ]
     },
     "execution_count": 8,
     "metadata": {},
     "output_type": "execute_result"
    }
   ],
   "source": [
    "#how many people per cluster\n",
    "df.Cluster.value_counts()"
   ]
  },
  {
   "cell_type": "code",
   "execution_count": 9,
   "metadata": {
    "colab": {
     "base_uri": "https://localhost:8080/",
     "height": 302
    },
    "executionInfo": {
     "elapsed": 17,
     "status": "ok",
     "timestamp": 1669228929490,
     "user": {
      "displayName": "Diogo Resende",
      "userId": "05706604408624562002"
     },
     "user_tz": -60
    },
    "id": "Q1VbVdbhU4Xb",
    "outputId": "de800168-306d-429a-c02e-4284c2d5e2d3"
   },
   "outputs": [
    {
     "data": {
      "application/vnd.microsoft.datawrangler.viewer.v0+json": {
       "columns": [
        {
         "name": "index",
         "rawType": "int64",
         "type": "integer"
        },
        {
         "name": "BALANCE",
         "rawType": "float64",
         "type": "float"
        },
        {
         "name": "BALANCE_FREQUENCY",
         "rawType": "float64",
         "type": "float"
        },
        {
         "name": "PURCHASES",
         "rawType": "float64",
         "type": "float"
        },
        {
         "name": "ONEOFF_PURCHASES",
         "rawType": "float64",
         "type": "float"
        },
        {
         "name": "INSTALLMENTS_PURCHASES",
         "rawType": "float64",
         "type": "float"
        },
        {
         "name": "CASH_ADVANCE",
         "rawType": "float64",
         "type": "float"
        },
        {
         "name": "PURCHASES_FREQUENCY",
         "rawType": "float64",
         "type": "float"
        },
        {
         "name": "ONEOFF_PURCHASES_FREQUENCY",
         "rawType": "float64",
         "type": "float"
        },
        {
         "name": "PURCHASES_INSTALLMENTS_FREQUENCY",
         "rawType": "float64",
         "type": "float"
        },
        {
         "name": "CASH_ADVANCE_FREQUENCY",
         "rawType": "float64",
         "type": "float"
        },
        {
         "name": "CASH_ADVANCE_TRX",
         "rawType": "float64",
         "type": "float"
        },
        {
         "name": "PURCHASES_TRX",
         "rawType": "float64",
         "type": "float"
        },
        {
         "name": "CREDIT_LIMIT",
         "rawType": "float64",
         "type": "float"
        },
        {
         "name": "PAYMENTS",
         "rawType": "float64",
         "type": "float"
        },
        {
         "name": "MINIMUM_PAYMENTS",
         "rawType": "float64",
         "type": "float"
        },
        {
         "name": "PRC_FULL_PAYMENT",
         "rawType": "float64",
         "type": "float"
        },
        {
         "name": "TENURE",
         "rawType": "float64",
         "type": "float"
        }
       ],
       "ref": "072459ce-1884-4a6c-ab8c-59ebef91d2bd",
       "rows": [
        [
         "0",
         "2143.186365995078",
         "0.9019546167634763",
         "23.25547683646037",
         "23.25547683646037",
         "0.0",
         "1977.9156371925653",
         "0.01849865778740482",
         "0.01849865778740482",
         "0.0",
         "0.2766920891523424",
         "6.176874489739668",
         "0.235324190787436",
         "4062.4613642871846",
         "1666.2970854343282",
         "695.5646972215442",
         "0.04530764378703115",
         "11.332921617873474"
        ],
        [
         "1",
         "158.72261694977993",
         "0.6425911012021217",
         "683.3628184375185",
         "359.8761956708987",
         "323.4866227666204",
         "0.0",
         "0.5251970911495016",
         "0.14315611911110604",
         "0.38529799794903963",
         "0.0",
         "0.0",
         "9.113565228645681",
         "3778.7720761965807",
         "898.0144969619436",
         "141.2668650258806",
         "0.330958547038512",
         "11.118326755910545"
        ],
        [
         "2",
         "3288.969311382594",
         "1.0",
         "987.7368564775662",
         "576.3575185401581",
         "411.37933793740893",
         "1627.5123692267146",
         "0.6176147829711731",
         "0.26554460716988765",
         "0.45342852859477584",
         "0.26930833097681744",
         "6.287264270092156",
         "17.83574446830648",
         "5345.303861042821",
         "1680.065451489796",
         "1940.0218861211674",
         "0.0",
         "11.999999999999966"
        ],
        [
         "3",
         "476.0305818488617",
         "0.8306024314070782",
         "877.0140043533144",
         "541.0749055766437",
         "353.4365607366752",
         "434.10843131317216",
         "0.61211997100154",
         "0.23733156859727358",
         "0.41452816000037807",
         "0.10982894053601724",
         "1.7345192267683684",
         "12.184823261041146",
         "4022.4353431406516",
         "1812.2722202496393",
         "275.73028517007793",
         "0.2914448547394357",
         "11.616270693682354"
        ],
        [
         "4",
         "2464.040397285021",
         "0.9253337142755566",
         "2804.588270353808",
         "1787.0924253989206",
         "1017.4958449548956",
         "2627.6399391033315",
         "0.6765475082860067",
         "0.33383440294073563",
         "0.49957164415943667",
         "0.2855755500538762",
         "8.62342119044967",
         "31.544591844053663",
         "5651.050497159735",
         "4782.5743170030655",
         "2388.915152713133",
         "0.12945795687041692",
         "10.814576796881381"
        ],
        [
         "5",
         "1092.255600757106",
         "1.0",
         "1568.5274381592326",
         "903.3743945132575",
         "665.1530436459747",
         "0.0",
         "0.7724940724580599",
         "0.3396608221647272",
         "0.5960144922879242",
         "0.0",
         "0.0",
         "25.316066669310207",
         "4697.283039728901",
         "1534.6090678833307",
         "535.198548864237",
         "0.2206478228708077",
         "12.000000000000007"
        ]
       ],
       "shape": {
        "columns": 17,
        "rows": 6
       }
      },
      "text/html": [
       "<div>\n",
       "<style scoped>\n",
       "    .dataframe tbody tr th:only-of-type {\n",
       "        vertical-align: middle;\n",
       "    }\n",
       "\n",
       "    .dataframe tbody tr th {\n",
       "        vertical-align: top;\n",
       "    }\n",
       "\n",
       "    .dataframe thead th {\n",
       "        text-align: right;\n",
       "    }\n",
       "</style>\n",
       "<table border=\"1\" class=\"dataframe\">\n",
       "  <thead>\n",
       "    <tr style=\"text-align: right;\">\n",
       "      <th></th>\n",
       "      <th>BALANCE</th>\n",
       "      <th>BALANCE_FREQUENCY</th>\n",
       "      <th>PURCHASES</th>\n",
       "      <th>ONEOFF_PURCHASES</th>\n",
       "      <th>INSTALLMENTS_PURCHASES</th>\n",
       "      <th>CASH_ADVANCE</th>\n",
       "      <th>PURCHASES_FREQUENCY</th>\n",
       "      <th>ONEOFF_PURCHASES_FREQUENCY</th>\n",
       "      <th>PURCHASES_INSTALLMENTS_FREQUENCY</th>\n",
       "      <th>CASH_ADVANCE_FREQUENCY</th>\n",
       "      <th>CASH_ADVANCE_TRX</th>\n",
       "      <th>PURCHASES_TRX</th>\n",
       "      <th>CREDIT_LIMIT</th>\n",
       "      <th>PAYMENTS</th>\n",
       "      <th>MINIMUM_PAYMENTS</th>\n",
       "      <th>PRC_FULL_PAYMENT</th>\n",
       "      <th>TENURE</th>\n",
       "    </tr>\n",
       "  </thead>\n",
       "  <tbody>\n",
       "    <tr>\n",
       "      <th>0</th>\n",
       "      <td>2143.186366</td>\n",
       "      <td>0.901955</td>\n",
       "      <td>23.255477</td>\n",
       "      <td>23.255477</td>\n",
       "      <td>0.000000</td>\n",
       "      <td>1977.915637</td>\n",
       "      <td>0.018499</td>\n",
       "      <td>0.018499</td>\n",
       "      <td>0.000000</td>\n",
       "      <td>0.276692</td>\n",
       "      <td>6.176874</td>\n",
       "      <td>0.235324</td>\n",
       "      <td>4062.461364</td>\n",
       "      <td>1666.297085</td>\n",
       "      <td>695.564697</td>\n",
       "      <td>0.045308</td>\n",
       "      <td>11.332922</td>\n",
       "    </tr>\n",
       "    <tr>\n",
       "      <th>1</th>\n",
       "      <td>158.722617</td>\n",
       "      <td>0.642591</td>\n",
       "      <td>683.362818</td>\n",
       "      <td>359.876196</td>\n",
       "      <td>323.486623</td>\n",
       "      <td>0.000000</td>\n",
       "      <td>0.525197</td>\n",
       "      <td>0.143156</td>\n",
       "      <td>0.385298</td>\n",
       "      <td>0.000000</td>\n",
       "      <td>0.000000</td>\n",
       "      <td>9.113565</td>\n",
       "      <td>3778.772076</td>\n",
       "      <td>898.014497</td>\n",
       "      <td>141.266865</td>\n",
       "      <td>0.330959</td>\n",
       "      <td>11.118327</td>\n",
       "    </tr>\n",
       "    <tr>\n",
       "      <th>2</th>\n",
       "      <td>3288.969311</td>\n",
       "      <td>1.000000</td>\n",
       "      <td>987.736856</td>\n",
       "      <td>576.357519</td>\n",
       "      <td>411.379338</td>\n",
       "      <td>1627.512369</td>\n",
       "      <td>0.617615</td>\n",
       "      <td>0.265545</td>\n",
       "      <td>0.453429</td>\n",
       "      <td>0.269308</td>\n",
       "      <td>6.287264</td>\n",
       "      <td>17.835744</td>\n",
       "      <td>5345.303861</td>\n",
       "      <td>1680.065451</td>\n",
       "      <td>1940.021886</td>\n",
       "      <td>0.000000</td>\n",
       "      <td>12.000000</td>\n",
       "    </tr>\n",
       "    <tr>\n",
       "      <th>3</th>\n",
       "      <td>476.030582</td>\n",
       "      <td>0.830602</td>\n",
       "      <td>877.014004</td>\n",
       "      <td>541.074906</td>\n",
       "      <td>353.436561</td>\n",
       "      <td>434.108431</td>\n",
       "      <td>0.612120</td>\n",
       "      <td>0.237332</td>\n",
       "      <td>0.414528</td>\n",
       "      <td>0.109829</td>\n",
       "      <td>1.734519</td>\n",
       "      <td>12.184823</td>\n",
       "      <td>4022.435343</td>\n",
       "      <td>1812.272220</td>\n",
       "      <td>275.730285</td>\n",
       "      <td>0.291445</td>\n",
       "      <td>11.616271</td>\n",
       "    </tr>\n",
       "    <tr>\n",
       "      <th>4</th>\n",
       "      <td>2464.040397</td>\n",
       "      <td>0.925334</td>\n",
       "      <td>2804.588270</td>\n",
       "      <td>1787.092425</td>\n",
       "      <td>1017.495845</td>\n",
       "      <td>2627.639939</td>\n",
       "      <td>0.676548</td>\n",
       "      <td>0.333834</td>\n",
       "      <td>0.499572</td>\n",
       "      <td>0.285576</td>\n",
       "      <td>8.623421</td>\n",
       "      <td>31.544592</td>\n",
       "      <td>5651.050497</td>\n",
       "      <td>4782.574317</td>\n",
       "      <td>2388.915153</td>\n",
       "      <td>0.129458</td>\n",
       "      <td>10.814577</td>\n",
       "    </tr>\n",
       "    <tr>\n",
       "      <th>5</th>\n",
       "      <td>1092.255601</td>\n",
       "      <td>1.000000</td>\n",
       "      <td>1568.527438</td>\n",
       "      <td>903.374395</td>\n",
       "      <td>665.153044</td>\n",
       "      <td>0.000000</td>\n",
       "      <td>0.772494</td>\n",
       "      <td>0.339661</td>\n",
       "      <td>0.596014</td>\n",
       "      <td>0.000000</td>\n",
       "      <td>0.000000</td>\n",
       "      <td>25.316067</td>\n",
       "      <td>4697.283040</td>\n",
       "      <td>1534.609068</td>\n",
       "      <td>535.198549</td>\n",
       "      <td>0.220648</td>\n",
       "      <td>12.000000</td>\n",
       "    </tr>\n",
       "  </tbody>\n",
       "</table>\n",
       "</div>"
      ],
      "text/plain": [
       "       BALANCE  BALANCE_FREQUENCY    PURCHASES  ONEOFF_PURCHASES  \\\n",
       "0  2143.186366           0.901955    23.255477         23.255477   \n",
       "1   158.722617           0.642591   683.362818        359.876196   \n",
       "2  3288.969311           1.000000   987.736856        576.357519   \n",
       "3   476.030582           0.830602   877.014004        541.074906   \n",
       "4  2464.040397           0.925334  2804.588270       1787.092425   \n",
       "5  1092.255601           1.000000  1568.527438        903.374395   \n",
       "\n",
       "   INSTALLMENTS_PURCHASES  CASH_ADVANCE  PURCHASES_FREQUENCY  \\\n",
       "0                0.000000   1977.915637             0.018499   \n",
       "1              323.486623      0.000000             0.525197   \n",
       "2              411.379338   1627.512369             0.617615   \n",
       "3              353.436561    434.108431             0.612120   \n",
       "4             1017.495845   2627.639939             0.676548   \n",
       "5              665.153044      0.000000             0.772494   \n",
       "\n",
       "   ONEOFF_PURCHASES_FREQUENCY  PURCHASES_INSTALLMENTS_FREQUENCY  \\\n",
       "0                    0.018499                          0.000000   \n",
       "1                    0.143156                          0.385298   \n",
       "2                    0.265545                          0.453429   \n",
       "3                    0.237332                          0.414528   \n",
       "4                    0.333834                          0.499572   \n",
       "5                    0.339661                          0.596014   \n",
       "\n",
       "   CASH_ADVANCE_FREQUENCY  CASH_ADVANCE_TRX  PURCHASES_TRX  CREDIT_LIMIT  \\\n",
       "0                0.276692          6.176874       0.235324   4062.461364   \n",
       "1                0.000000          0.000000       9.113565   3778.772076   \n",
       "2                0.269308          6.287264      17.835744   5345.303861   \n",
       "3                0.109829          1.734519      12.184823   4022.435343   \n",
       "4                0.285576          8.623421      31.544592   5651.050497   \n",
       "5                0.000000          0.000000      25.316067   4697.283040   \n",
       "\n",
       "      PAYMENTS  MINIMUM_PAYMENTS  PRC_FULL_PAYMENT     TENURE  \n",
       "0  1666.297085        695.564697          0.045308  11.332922  \n",
       "1   898.014497        141.266865          0.330959  11.118327  \n",
       "2  1680.065451       1940.021886          0.000000  12.000000  \n",
       "3  1812.272220        275.730285          0.291445  11.616271  \n",
       "4  4782.574317       2388.915153          0.129458  10.814577  \n",
       "5  1534.609068        535.198549          0.220648  12.000000  "
      ]
     },
     "execution_count": 9,
     "metadata": {},
     "output_type": "execute_result"
    }
   ],
   "source": [
    "#Interpretation\n",
    "pd.DataFrame(model.means_,\n",
    "             columns = list(df.iloc[:,1:-1].columns))"
   ]
  },
  {
   "cell_type": "code",
   "execution_count": 10,
   "metadata": {
    "executionInfo": {
     "elapsed": 235,
     "status": "ok",
     "timestamp": 1669228931505,
     "user": {
      "displayName": "Diogo Resende",
      "userId": "05706604408624562002"
     },
     "user_tz": -60
    },
    "id": "QwlRr9wLU51J"
   },
   "outputs": [],
   "source": [
    "#Name the Segments\n",
    "#Cluster 0: Lower Middle Class\n",
    "#Cluster 1: Inactive \n",
    "#Cluster 2: High Rollers\n",
    "#Cluster 3: Conscious high Income\n",
    "#Cluster 4: Upper middle Class\n",
    "#Cluster 5: Active purchasers"
   ]
  }
 ],
 "metadata": {
  "colab": {
   "authorship_tag": "ABX9TyNAh0ytM081jEATSV7mJPCP",
   "mount_file_id": "1guQ3c0oFHgcA_Gq_Zp8SRMiCT3r39Boa",
   "provenance": []
  },
  "kernelspec": {
   "display_name": "Python 3",
   "name": "python3"
  },
  "language_info": {
   "codemirror_mode": {
    "name": "ipython",
    "version": 3
   },
   "file_extension": ".py",
   "mimetype": "text/x-python",
   "name": "python",
   "nbconvert_exporter": "python",
   "pygments_lexer": "ipython3",
   "version": "3.13.2"
  }
 },
 "nbformat": 4,
 "nbformat_minor": 0
}
